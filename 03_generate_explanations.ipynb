{
 "cells": [
  {
   "cell_type": "code",
   "execution_count": 1,
   "id": "0b586cc0-4991-4174-a428-5cba08944cca",
   "metadata": {},
   "outputs": [],
   "source": [
    "import pandas as pd"
   ]
  },
  {
   "cell_type": "code",
   "execution_count": 2,
   "id": "ed96c5b9-0f63-473d-9861-4d8557c77571",
   "metadata": {},
   "outputs": [],
   "source": [
    "import json"
   ]
  },
  {
   "cell_type": "code",
   "execution_count": 3,
   "id": "185b6f83-3294-4115-88a4-09c90776560d",
   "metadata": {},
   "outputs": [],
   "source": [
    "import random"
   ]
  },
  {
   "cell_type": "code",
   "execution_count": 4,
   "id": "ce57990d-2a36-410a-b464-2e135e34c192",
   "metadata": {},
   "outputs": [],
   "source": [
    "file_path = \"data/explanations/german_credit_explanations.jsonl\""
   ]
  },
  {
   "cell_type": "code",
   "execution_count": 6,
   "id": "d8db1e21-ccee-49ee-b98e-76c1330f5bca",
   "metadata": {},
   "outputs": [
    {
     "data": {
      "text/html": [
       "<div>\n",
       "<style scoped>\n",
       "    .dataframe tbody tr th:only-of-type {\n",
       "        vertical-align: middle;\n",
       "    }\n",
       "\n",
       "    .dataframe tbody tr th {\n",
       "        vertical-align: top;\n",
       "    }\n",
       "\n",
       "    .dataframe thead th {\n",
       "        text-align: right;\n",
       "    }\n",
       "</style>\n",
       "<table border=\"1\" class=\"dataframe\">\n",
       "  <thead>\n",
       "    <tr style=\"text-align: right;\">\n",
       "      <th></th>\n",
       "      <th>input</th>\n",
       "      <th>label</th>\n",
       "      <th>explanation</th>\n",
       "    </tr>\n",
       "  </thead>\n",
       "  <tbody>\n",
       "    <tr>\n",
       "      <th>521</th>\n",
       "      <td>status=... &lt; 100 DM, duration=18, savings=... ...</td>\n",
       "      <td>good</td>\n",
       "      <td>Application approved due to young applicant.</td>\n",
       "    </tr>\n",
       "    <tr>\n",
       "      <th>737</th>\n",
       "      <td>status=... &lt; 100 DM, duration=18, savings=100 ...</td>\n",
       "      <td>bad</td>\n",
       "      <td>Application denied due to stable financial pro...</td>\n",
       "    </tr>\n",
       "    <tr>\n",
       "      <th>740</th>\n",
       "      <td>status=... &lt; 100 DM, duration=24, savings=100 ...</td>\n",
       "      <td>bad</td>\n",
       "      <td>Application denied due to stable financial pro...</td>\n",
       "    </tr>\n",
       "    <tr>\n",
       "      <th>660</th>\n",
       "      <td>status=... &gt;= 200 DM / salary for at least 1 y...</td>\n",
       "      <td>bad</td>\n",
       "      <td>Application denied due to young applicant.</td>\n",
       "    </tr>\n",
       "    <tr>\n",
       "      <th>411</th>\n",
       "      <td>status=no checking account, duration=33, savin...</td>\n",
       "      <td>bad</td>\n",
       "      <td>Application denied due to high loan amount.</td>\n",
       "    </tr>\n",
       "    <tr>\n",
       "      <th>678</th>\n",
       "      <td>status=... &lt; 100 DM, duration=24, savings=... ...</td>\n",
       "      <td>bad</td>\n",
       "      <td>Application denied due to stable financial pro...</td>\n",
       "    </tr>\n",
       "    <tr>\n",
       "      <th>626</th>\n",
       "      <td>status=... &gt;= 200 DM / salary for at least 1 y...</td>\n",
       "      <td>bad</td>\n",
       "      <td>Application denied due to stable financial pro...</td>\n",
       "    </tr>\n",
       "    <tr>\n",
       "      <th>513</th>\n",
       "      <td>status=0 &lt;= ... &lt; 200 DM, duration=12, savings...</td>\n",
       "      <td>bad</td>\n",
       "      <td>Application denied due to young applicant.</td>\n",
       "    </tr>\n",
       "    <tr>\n",
       "      <th>859</th>\n",
       "      <td>status=no checking account, duration=9, saving...</td>\n",
       "      <td>bad</td>\n",
       "      <td>Application denied due to stable financial pro...</td>\n",
       "    </tr>\n",
       "    <tr>\n",
       "      <th>136</th>\n",
       "      <td>status=no checking account, duration=27, savin...</td>\n",
       "      <td>bad</td>\n",
       "      <td>Application denied due to high loan amount.</td>\n",
       "    </tr>\n",
       "  </tbody>\n",
       "</table>\n",
       "</div>"
      ],
      "text/plain": [
       "                                                 input label  \\\n",
       "521  status=... < 100 DM, duration=18, savings=... ...  good   \n",
       "737  status=... < 100 DM, duration=18, savings=100 ...   bad   \n",
       "740  status=... < 100 DM, duration=24, savings=100 ...   bad   \n",
       "660  status=... >= 200 DM / salary for at least 1 y...   bad   \n",
       "411  status=no checking account, duration=33, savin...   bad   \n",
       "678  status=... < 100 DM, duration=24, savings=... ...   bad   \n",
       "626  status=... >= 200 DM / salary for at least 1 y...   bad   \n",
       "513  status=0 <= ... < 200 DM, duration=12, savings...   bad   \n",
       "859  status=no checking account, duration=9, saving...   bad   \n",
       "136  status=no checking account, duration=27, savin...   bad   \n",
       "\n",
       "                                           explanation  \n",
       "521       Application approved due to young applicant.  \n",
       "737  Application denied due to stable financial pro...  \n",
       "740  Application denied due to stable financial pro...  \n",
       "660         Application denied due to young applicant.  \n",
       "411        Application denied due to high loan amount.  \n",
       "678  Application denied due to stable financial pro...  \n",
       "626  Application denied due to stable financial pro...  \n",
       "513         Application denied due to young applicant.  \n",
       "859  Application denied due to stable financial pro...  \n",
       "136        Application denied due to high loan amount.  "
      ]
     },
     "execution_count": 6,
     "metadata": {},
     "output_type": "execute_result"
    }
   ],
   "source": [
    "with open(file_path, \"r\") as f:\n",
    "    records = [json.loads(line) for line in f]\n",
    "df = pd.DataFrame(records)\n",
    "df.sample(10, random_state=42)"
   ]
  },
  {
   "cell_type": "code",
   "execution_count": null,
   "id": "a49d476b-9268-4c9f-98c0-551f0dbdefcf",
   "metadata": {},
   "outputs": [],
   "source": []
  }
 ],
 "metadata": {
  "kernelspec": {
   "display_name": "Python 3 (ipykernel)",
   "language": "python",
   "name": "python3"
  },
  "language_info": {
   "codemirror_mode": {
    "name": "ipython",
    "version": 3
   },
   "file_extension": ".py",
   "mimetype": "text/x-python",
   "name": "python",
   "nbconvert_exporter": "python",
   "pygments_lexer": "ipython3",
   "version": "3.11.9"
  }
 },
 "nbformat": 4,
 "nbformat_minor": 5
}
